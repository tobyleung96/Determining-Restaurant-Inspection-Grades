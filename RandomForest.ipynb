{
 "metadata": {
  "language_info": {
   "codemirror_mode": {
    "name": "ipython",
    "version": 3
   },
   "file_extension": ".py",
   "mimetype": "text/x-python",
   "name": "python",
   "nbconvert_exporter": "python",
   "pygments_lexer": "ipython3",
   "version": "3.8.3-final"
  },
  "orig_nbformat": 2,
  "kernelspec": {
   "name": "python3",
   "display_name": "Python 3.8.3 64-bit ('base': conda)",
   "metadata": {
    "interpreter": {
     "hash": "623a3e0677a75a41e95a47d88f0500502d9391b79342c4cd052e64a52350dbb6"
    }
   }
  }
 },
 "nbformat": 4,
 "nbformat_minor": 2,
 "cells": [
  {
   "cell_type": "code",
   "execution_count": 1,
   "metadata": {},
   "outputs": [],
   "source": [
    "import pandas\n",
    "import sklearn\n",
    "from sklearn.model_selection import train_test_split"
   ]
  },
  {
   "cell_type": "code",
   "execution_count": 2,
   "metadata": {},
   "outputs": [],
   "source": [
    "# merged_df = pandas.read_csv('./inspectionAndPlutoMerged.csv') #inspection + pluto\n",
    "forAlgos_df = pandas.read_csv('./forAlgos.csv')"
   ]
  },
  {
   "cell_type": "code",
   "execution_count": 3,
   "metadata": {},
   "outputs": [
    {
     "output_type": "stream",
     "name": "stdout",
     "text": [
      "American             14759\nChinese               6602\nCafé/Coffee/Tea       4776\nPizza                 3206\nMexican               2744\n                     ...  \nFruits/Vegetables       14\nCzech                   12\nIranian                 12\nScandinavian            11\nSouthwestern             6\nName: CUISINE_DESCRIPTION, Length: 82, dtype: int64\n"
     ]
    }
   ],
   "source": [
    "cusineCounts = forAlgos_df['CUISINE_DESCRIPTION'].value_counts()\n",
    "print(cusineCounts)"
   ]
  },
  {
   "cell_type": "code",
   "execution_count": 4,
   "metadata": {},
   "outputs": [
    {
     "output_type": "execute_result",
     "data": {
      "text/plain": [
       "   Unnamed: 0       BORO  ZIPCODE CUISINE_DESCRIPTION GRADE  yearbuilt  \\\n",
       "0           0   Brooklyn    11225          Hamburgers     A     1965.0   \n",
       "1           1   Brooklyn    11225          Hamburgers     A     1965.0   \n",
       "2           2   Brooklyn    11225          Hamburgers     A     1965.0   \n",
       "3           3  Manhattan    10019               Irish     A     1930.0   \n",
       "4           4  Manhattan    10019               Irish     A     1930.0   \n",
       "\n",
       "   lotarea  bldgarea  comareaPCT  resareaPCT  officeareaPCT  retailareaPCT  \\\n",
       "0  21934.0    3515.0    1.000000    0.000000            0.0       1.000000   \n",
       "1  21934.0    3515.0    1.000000    0.000000            0.0       1.000000   \n",
       "2  21934.0    3515.0    1.000000    0.000000            0.0       1.000000   \n",
       "3   2209.0    7603.0    0.131527    0.868473            0.0       0.131527   \n",
       "4   2209.0    7603.0    0.131527    0.868473            0.0       0.131527   \n",
       "\n",
       "   garageareaPCT  strgeareaPCT  factryareaPCT  otherareaPCT  assessland  \\\n",
       "0            0.0           0.0            0.0           0.0    189450.0   \n",
       "1            0.0           0.0            0.0           0.0    189450.0   \n",
       "2            0.0           0.0            0.0           0.0    189450.0   \n",
       "3            0.0           0.0            0.0           0.0    299250.0   \n",
       "4            0.0           0.0            0.0           0.0    299250.0   \n",
       "\n",
       "   assesstot  \n",
       "0   562950.0  \n",
       "1   562950.0  \n",
       "2   562950.0  \n",
       "3  3401550.0  \n",
       "4  3401550.0  "
      ],
      "text/html": "<div>\n<style scoped>\n    .dataframe tbody tr th:only-of-type {\n        vertical-align: middle;\n    }\n\n    .dataframe tbody tr th {\n        vertical-align: top;\n    }\n\n    .dataframe thead th {\n        text-align: right;\n    }\n</style>\n<table border=\"1\" class=\"dataframe\">\n  <thead>\n    <tr style=\"text-align: right;\">\n      <th></th>\n      <th>Unnamed: 0</th>\n      <th>BORO</th>\n      <th>ZIPCODE</th>\n      <th>CUISINE_DESCRIPTION</th>\n      <th>GRADE</th>\n      <th>yearbuilt</th>\n      <th>lotarea</th>\n      <th>bldgarea</th>\n      <th>comareaPCT</th>\n      <th>resareaPCT</th>\n      <th>officeareaPCT</th>\n      <th>retailareaPCT</th>\n      <th>garageareaPCT</th>\n      <th>strgeareaPCT</th>\n      <th>factryareaPCT</th>\n      <th>otherareaPCT</th>\n      <th>assessland</th>\n      <th>assesstot</th>\n    </tr>\n  </thead>\n  <tbody>\n    <tr>\n      <th>0</th>\n      <td>0</td>\n      <td>Brooklyn</td>\n      <td>11225</td>\n      <td>Hamburgers</td>\n      <td>A</td>\n      <td>1965.0</td>\n      <td>21934.0</td>\n      <td>3515.0</td>\n      <td>1.000000</td>\n      <td>0.000000</td>\n      <td>0.0</td>\n      <td>1.000000</td>\n      <td>0.0</td>\n      <td>0.0</td>\n      <td>0.0</td>\n      <td>0.0</td>\n      <td>189450.0</td>\n      <td>562950.0</td>\n    </tr>\n    <tr>\n      <th>1</th>\n      <td>1</td>\n      <td>Brooklyn</td>\n      <td>11225</td>\n      <td>Hamburgers</td>\n      <td>A</td>\n      <td>1965.0</td>\n      <td>21934.0</td>\n      <td>3515.0</td>\n      <td>1.000000</td>\n      <td>0.000000</td>\n      <td>0.0</td>\n      <td>1.000000</td>\n      <td>0.0</td>\n      <td>0.0</td>\n      <td>0.0</td>\n      <td>0.0</td>\n      <td>189450.0</td>\n      <td>562950.0</td>\n    </tr>\n    <tr>\n      <th>2</th>\n      <td>2</td>\n      <td>Brooklyn</td>\n      <td>11225</td>\n      <td>Hamburgers</td>\n      <td>A</td>\n      <td>1965.0</td>\n      <td>21934.0</td>\n      <td>3515.0</td>\n      <td>1.000000</td>\n      <td>0.000000</td>\n      <td>0.0</td>\n      <td>1.000000</td>\n      <td>0.0</td>\n      <td>0.0</td>\n      <td>0.0</td>\n      <td>0.0</td>\n      <td>189450.0</td>\n      <td>562950.0</td>\n    </tr>\n    <tr>\n      <th>3</th>\n      <td>3</td>\n      <td>Manhattan</td>\n      <td>10019</td>\n      <td>Irish</td>\n      <td>A</td>\n      <td>1930.0</td>\n      <td>2209.0</td>\n      <td>7603.0</td>\n      <td>0.131527</td>\n      <td>0.868473</td>\n      <td>0.0</td>\n      <td>0.131527</td>\n      <td>0.0</td>\n      <td>0.0</td>\n      <td>0.0</td>\n      <td>0.0</td>\n      <td>299250.0</td>\n      <td>3401550.0</td>\n    </tr>\n    <tr>\n      <th>4</th>\n      <td>4</td>\n      <td>Manhattan</td>\n      <td>10019</td>\n      <td>Irish</td>\n      <td>A</td>\n      <td>1930.0</td>\n      <td>2209.0</td>\n      <td>7603.0</td>\n      <td>0.131527</td>\n      <td>0.868473</td>\n      <td>0.0</td>\n      <td>0.131527</td>\n      <td>0.0</td>\n      <td>0.0</td>\n      <td>0.0</td>\n      <td>0.0</td>\n      <td>299250.0</td>\n      <td>3401550.0</td>\n    </tr>\n  </tbody>\n</table>\n</div>"
     },
     "metadata": {},
     "execution_count": 4
    }
   ],
   "source": [
    "forAlgos_df.head()"
   ]
  },
  {
   "cell_type": "code",
   "execution_count": 5,
   "metadata": {},
   "outputs": [],
   "source": [
    "forAlgos_df = pandas.read_csv('./forAlgos.csv')\n",
    "one_hot = pandas.get_dummies(forAlgos_df.CUISINE_DESCRIPTION, prefix='CUISINE')\n",
    "forAlgos_df = forAlgos_df.drop('CUISINE_DESCRIPTION', axis=1)\n",
    "forAlgos_df = forAlgos_df.join(one_hot)\n",
    "one_hot = pandas.get_dummies(forAlgos_df.BORO, prefix='BORO')\n",
    "forAlgos_df = forAlgos_df.drop('BORO', axis=1)\n",
    "forAlgos_df = forAlgos_df.join(one_hot)\n",
    "def filterGrade(g):\n",
    "    return g == 'A' | g == 'B' | g == 'C'\n",
    "forAlgos_df = forAlgos_df[forAlgos_df['GRADE'].isin(['A', 'B', 'C'])]"
   ]
  },
  {
   "cell_type": "code",
   "execution_count": 6,
   "metadata": {},
   "outputs": [],
   "source": [
    "forAlgos_df['GRADE'].replace({\"A\": 90, \"B\": 80, \"C\": 70}, inplace=True)"
   ]
  },
  {
   "cell_type": "code",
   "execution_count": 7,
   "metadata": {},
   "outputs": [
    {
     "output_type": "execute_result",
     "data": {
      "text/plain": [
       "Index(['Unnamed: 0', 'ZIPCODE', 'GRADE', 'yearbuilt', 'lotarea', 'bldgarea',\n",
       "       'comareaPCT', 'resareaPCT', 'officeareaPCT', 'retailareaPCT',\n",
       "       ...\n",
       "       'CUISINE_Tex-Mex', 'CUISINE_Thai', 'CUISINE_Turkish',\n",
       "       'CUISINE_Vegetarian', 'CUISINE_Vietnamese/Cambodian/Malaysia',\n",
       "       'BORO_Bronx', 'BORO_Brooklyn', 'BORO_Manhattan', 'BORO_Queens',\n",
       "       'BORO_Staten Island'],\n",
       "      dtype='object', length=103)"
      ]
     },
     "metadata": {},
     "execution_count": 7
    }
   ],
   "source": [
    "forAlgos_df.columns"
   ]
  },
  {
   "cell_type": "code",
   "execution_count": 8,
   "metadata": {},
   "outputs": [],
   "source": [
    "X = forAlgos_df[forAlgos_df.columns[~forAlgos_df.columns.isin(['Unnamed: 0','GRADE'])]]\n",
    "Y = forAlgos_df[['GRADE']]\n",
    "x_train, x_test, y_train, y_test = train_test_split(X,Y, test_size=0.2)"
   ]
  },
  {
   "cell_type": "code",
   "execution_count": 9,
   "metadata": {},
   "outputs": [
    {
     "output_type": "execute_result",
     "data": {
      "text/plain": [
       "LinearRegression()"
      ]
     },
     "metadata": {},
     "execution_count": 9
    }
   ],
   "source": [
    "from sklearn.linear_model import LinearRegression\n",
    "clf = LinearRegression()\n",
    "clf.fit(x_train, y_train)"
   ]
  },
  {
   "cell_type": "code",
   "execution_count": 10,
   "metadata": {},
   "outputs": [],
   "source": [
    "y_pred = clf.predict(x_test)"
   ]
  },
  {
   "cell_type": "code",
   "execution_count": 11,
   "metadata": {},
   "outputs": [
    {
     "output_type": "execute_result",
     "data": {
      "text/plain": [
       "array([[89.51902892],\n",
       "       [88.42035168],\n",
       "       [87.8278835 ],\n",
       "       ...,\n",
       "       [89.55081454],\n",
       "       [88.44903781],\n",
       "       [88.66683747]])"
      ]
     },
     "metadata": {},
     "execution_count": 11
    }
   ],
   "source": [
    "y_pred"
   ]
  },
  {
   "cell_type": "code",
   "execution_count": 12,
   "metadata": {},
   "outputs": [
    {
     "output_type": "execute_result",
     "data": {
      "text/plain": [
       "       GRADE\n",
       "43314     90\n",
       "32511     90\n",
       "58602     90\n",
       "64802     90\n",
       "46103     90\n",
       "...      ...\n",
       "5886      80\n",
       "66990     90\n",
       "32334     90\n",
       "54371     80\n",
       "48810     90\n",
       "\n",
       "[13543 rows x 1 columns]"
      ],
      "text/html": "<div>\n<style scoped>\n    .dataframe tbody tr th:only-of-type {\n        vertical-align: middle;\n    }\n\n    .dataframe tbody tr th {\n        vertical-align: top;\n    }\n\n    .dataframe thead th {\n        text-align: right;\n    }\n</style>\n<table border=\"1\" class=\"dataframe\">\n  <thead>\n    <tr style=\"text-align: right;\">\n      <th></th>\n      <th>GRADE</th>\n    </tr>\n  </thead>\n  <tbody>\n    <tr>\n      <th>43314</th>\n      <td>90</td>\n    </tr>\n    <tr>\n      <th>32511</th>\n      <td>90</td>\n    </tr>\n    <tr>\n      <th>58602</th>\n      <td>90</td>\n    </tr>\n    <tr>\n      <th>64802</th>\n      <td>90</td>\n    </tr>\n    <tr>\n      <th>46103</th>\n      <td>90</td>\n    </tr>\n    <tr>\n      <th>...</th>\n      <td>...</td>\n    </tr>\n    <tr>\n      <th>5886</th>\n      <td>80</td>\n    </tr>\n    <tr>\n      <th>66990</th>\n      <td>90</td>\n    </tr>\n    <tr>\n      <th>32334</th>\n      <td>90</td>\n    </tr>\n    <tr>\n      <th>54371</th>\n      <td>80</td>\n    </tr>\n    <tr>\n      <th>48810</th>\n      <td>90</td>\n    </tr>\n  </tbody>\n</table>\n<p>13543 rows × 1 columns</p>\n</div>"
     },
     "metadata": {},
     "execution_count": 12
    }
   ],
   "source": [
    "y_test"
   ]
  },
  {
   "cell_type": "code",
   "execution_count": 13,
   "metadata": {},
   "outputs": [
    {
     "output_type": "execute_result",
     "data": {
      "text/plain": [
       "14.82231692115689"
      ]
     },
     "metadata": {},
     "execution_count": 13
    }
   ],
   "source": [
    "from sklearn import metrics\n",
    "metrics.mean_squared_error(y_test, y_pred)"
   ]
  },
  {
   "cell_type": "code",
   "execution_count": 14,
   "metadata": {},
   "outputs": [
    {
     "output_type": "execute_result",
     "data": {
      "text/plain": [
       "RandomForestClassifier()"
      ]
     },
     "metadata": {},
     "execution_count": 14
    }
   ],
   "source": [
    "from sklearn.ensemble import RandomForestClassifier\n",
    "rfclf=RandomForestClassifier(n_estimators=100)\n",
    "rfclf.fit(x_train, y_train)\n"
   ]
  },
  {
   "cell_type": "code",
   "execution_count": 15,
   "metadata": {},
   "outputs": [],
   "source": [
    "y_pred = rfclf.predict(x_test)"
   ]
  },
  {
   "cell_type": "code",
   "execution_count": 16,
   "metadata": {},
   "outputs": [
    {
     "output_type": "execute_result",
     "data": {
      "text/plain": [
       "7.036845602894484"
      ]
     },
     "metadata": {},
     "execution_count": 16
    }
   ],
   "source": [
    "metrics.mean_squared_error(y_test, y_pred)"
   ]
  }
 ]
}